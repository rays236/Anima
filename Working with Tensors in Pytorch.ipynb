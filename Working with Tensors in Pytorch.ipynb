{
 "cells": [
  {
   "cell_type": "code",
   "execution_count": 1,
   "id": "77dadb0d-4125-40e0-a599-d37c334f56b2",
   "metadata": {},
   "outputs": [],
   "source": [
    "import torch"
   ]
  },
  {
   "cell_type": "code",
   "execution_count": 2,
   "id": "d5651092-670a-425c-b388-dbe10eed195c",
   "metadata": {},
   "outputs": [
    {
     "name": "stdout",
     "output_type": "stream",
     "text": [
      "torch version 2.5.1\n"
     ]
    }
   ],
   "source": [
    "print('torch version', torch.__version__) # Print the installed version"
   ]
  },
  {
   "cell_type": "markdown",
   "id": "83901c56-67c5-4db5-b4fa-aa93edc444c3",
   "metadata": {},
   "source": [
    "### Python nested list to tensor"
   ]
  },
  {
   "cell_type": "code",
   "execution_count": 3,
   "id": "c1163d11-f1fd-43a2-a64c-f957639921df",
   "metadata": {},
   "outputs": [],
   "source": [
    "my_values = [[1, 2, 3], [4, 5, 6], [7, 8, 9], [10, 11, 12]]\n",
    "my_tensor = torch.Tensor(my_values)"
   ]
  },
  {
   "cell_type": "code",
   "execution_count": 4,
   "id": "10e0171f-b234-4f8a-ad7f-050f0bebc783",
   "metadata": {},
   "outputs": [
    {
     "name": "stdout",
     "output_type": "stream",
     "text": [
      "my_tensor class: <class 'torch.Tensor'>\n",
      "tensor([[ 1.,  2.,  3.],\n",
      "        [ 4.,  5.,  6.],\n",
      "        [ 7.,  8.,  9.],\n",
      "        [10., 11., 12.]])\n"
     ]
    }
   ],
   "source": [
    "print(\"my_tensor class:\", type(my_tensor))\n",
    "print(my_tensor)"
   ]
  },
  {
   "cell_type": "markdown",
   "id": "df02e4c3-4b8c-450f-8a36-d871807a7de0",
   "metadata": {},
   "source": [
    "## Tensor Attributes\n",
    "#### Tensor() class has attributes that provide us info such as \n",
    "- **.shape** for dimension\n",
    "- **.dtype** for data types of values stored inside the tensor"
   ]
  },
  {
   "cell_type": "code",
   "execution_count": 5,
   "id": "de69dcc2-a836-470f-a8d6-75c9160b92e7",
   "metadata": {},
   "outputs": [
    {
     "name": "stdout",
     "output_type": "stream",
     "text": [
      "my_tensor shape:  torch.Size([4, 3])\n",
      "my_tensor data type:  torch.float32\n"
     ]
    }
   ],
   "source": [
    "print(\"my_tensor shape: \", my_tensor.shape)\n",
    "print(\"my_tensor data type: \", my_tensor.dtype)"
   ]
  },
  {
   "cell_type": "markdown",
   "id": "0cea5769-9f03-4e61-bd41-c9abd3637bfd",
   "metadata": {},
   "source": [
    "### Device for Tensor\n",
    "#### Tensors also have a **.device** attributes, which specifies that hardware on which it's stored. By default it's created on computer's CPU"
   ]
  },
  {
   "cell_type": "code",
   "execution_count": 6,
   "id": "d296f9d3-bcea-4ab0-a6c2-f4bf8242efd0",
   "metadata": {},
   "outputs": [
    {
     "name": "stdout",
     "output_type": "stream",
     "text": [
      "my_tensor device:  cpu\n"
     ]
    }
   ],
   "source": [
    "print(\"my_tensor device: \", my_tensor.device)"
   ]
  },
  {
   "cell_type": "markdown",
   "id": "2c8d6e70-3156-47cf-bbf5-fbe40037b8bf",
   "metadata": {},
   "source": [
    "### Check for GPU availability \n",
    "- **cuda** for windows & linux\n",
    "- **mps** for macOS"
   ]
  },
  {
   "cell_type": "code",
   "execution_count": 7,
   "id": "f52e41cb-7b5e-48be-9d69-c7434927fe9d",
   "metadata": {},
   "outputs": [
    {
     "name": "stdout",
     "output_type": "stream",
     "text": [
      "cuda GPUs available: False\n",
      "mps GPUs available: True\n"
     ]
    }
   ],
   "source": [
    "cuda_gpus_available = torch.cuda.is_available()\n",
    "mps_gpus_available = torch.backends.mps.is_available()\n",
    "print(\"cuda GPUs available:\", cuda_gpus_available)\n",
    "print(\"mps GPUs available:\", mps_gpus_available)"
   ]
  },
  {
   "cell_type": "markdown",
   "id": "080dd663-1e1e-4796-a820-87d59d4977b3",
   "metadata": {},
   "source": [
    "#### Change the device of `my_tensor` to `mps`"
   ]
  },
  {
   "cell_type": "code",
   "execution_count": 8,
   "id": "a8d19dab-8f23-4b2b-8a1c-97f9696752dd",
   "metadata": {},
   "outputs": [
    {
     "name": "stdout",
     "output_type": "stream",
     "text": [
      "my_tensor device: mps:0\n"
     ]
    }
   ],
   "source": [
    "my_tensor = my_tensor.to('mps')\n",
    "print(\"my_tensor device:\", my_tensor.device)"
   ]
  },
  {
   "cell_type": "markdown",
   "id": "98395607-39fa-4b93-b1ff-41fec7cd7f7b",
   "metadata": {},
   "source": [
    "### Tensor Slicing\n",
    "#### We can manipulate tensors through several ways. **Slicing** techniques, where we use square brackets `[]` and indexing to select a subset of the values in a tensor."
   ]
  },
  {
   "cell_type": "code",
   "execution_count": 9,
   "id": "a85a1f4b-1a4a-4c1a-9227-ba35d57ad5e3",
   "metadata": {},
   "outputs": [
    {
     "name": "stdout",
     "output_type": "stream",
     "text": [
      "tensor([[1., 2., 3.],\n",
      "        [4., 5., 6.]], device='mps:0')\n",
      "tensor([[ 7.,  8.,  9.],\n",
      "        [10., 11., 12.]], device='mps:0')\n"
     ]
    }
   ],
   "source": [
    "left_tensor = my_tensor[:2, :] # tensor[rows, columns]\n",
    "right_tensor = my_tensor[2:, :]\n",
    "print(left_tensor)\n",
    "print(right_tensor)"
   ]
  },
  {
   "cell_type": "markdown",
   "id": "0cc854c1-73be-4524-892f-e18624a4bc03",
   "metadata": {},
   "source": [
    "### Tensor Math\n",
    "#### Another way to manipulate tensors is to use mathematical operations. For example\n",
    "- `+` operator or the `add` method to perform addition"
   ]
  },
  {
   "cell_type": "code",
   "execution_count": 10,
   "id": "b21bedc3-8587-48df-b589-41a9dd1a9cc0",
   "metadata": {},
   "outputs": [
    {
     "name": "stdout",
     "output_type": "stream",
     "text": [
      "left tensor + right tensor =  tensor([[ 8., 10., 12.],\n",
      "        [14., 16., 18.]], device='mps:0')\n",
      "left_tensor.add(right_tensor) :  tensor([[ 8., 10., 12.],\n",
      "        [14., 16., 18.]], device='mps:0')\n"
     ]
    }
   ],
   "source": [
    "summed_tensor_operator = left_tensor + right_tensor\n",
    "summed_tensor_method = left_tensor.add(right_tensor)\n",
    "print('left tensor + right tensor = ', summed_tensor_operator)\n",
    "print('left_tensor.add(right_tensor) : ', summed_tensor_method)"
   ]
  },
  {
   "cell_type": "markdown",
   "id": "11568bef-149f-45a4-b2a9-cc5cc268b47e",
   "metadata": {},
   "source": [
    "#### Important mathematical operator used in deep learning is multiplication.\n",
    "Multiplication are of two types\n",
    "- **element-wise multiplication** using `*` operator or the `.mul` method."
   ]
  },
  {
   "cell_type": "code",
   "execution_count": 11,
   "id": "44368dde-1540-4b93-b654-267cf71705ed",
   "metadata": {},
   "outputs": [
    {
     "name": "stdout",
     "output_type": "stream",
     "text": [
      "tensor([[ 7., 16., 27.],\n",
      "        [40., 55., 72.]], device='mps:0')\n",
      "tensor([[ 7., 16., 27.],\n",
      "        [40., 55., 72.]], device='mps:0')\n"
     ]
    }
   ],
   "source": [
    "ew_tensor_operator = left_tensor * right_tensor\n",
    "ew_tensor_method = left_tensor.mul(right_tensor)\n",
    "\n",
    "print(ew_tensor_operator)\n",
    "print(ew_tensor_method)"
   ]
  },
  {
   "cell_type": "markdown",
   "id": "e8eebee0-fc3e-4b30-8f9e-dd801c0c7197",
   "metadata": {},
   "source": [
    "`Note: element-wise multiplication is commutative i.e left_tensor * right_tensor equals to right_tensor * left_tensor unlike matrix multiplication`"
   ]
  },
  {
   "cell_type": "code",
   "execution_count": 12,
   "id": "c4d165ca-0fb8-4350-8ff3-8b19e0347291",
   "metadata": {},
   "outputs": [
    {
     "data": {
      "text/plain": [
       "tensor([[True, True, True],\n",
       "        [True, True, True]], device='mps:0')"
      ]
     },
     "execution_count": 12,
     "metadata": {},
     "output_type": "execute_result"
    }
   ],
   "source": [
    "left_tensor * right_tensor == right_tensor * left_tensor"
   ]
  },
  {
   "cell_type": "markdown",
   "id": "29845f2f-2f0e-4cf6-9ba3-3e6ce513ad27",
   "metadata": {},
   "source": [
    "- **matrix multiplication** using `@` operator or `.matmul()` method"
   ]
  },
  {
   "cell_type": "code",
   "execution_count": 13,
   "id": "c30bac09-2a1b-4f30-b546-1ab81ea3cd85",
   "metadata": {},
   "outputs": [
    {
     "name": "stdout",
     "output_type": "stream",
     "text": [
      "tensor([[61.],\n",
      "        [83.]])\n",
      "tensor([[61.],\n",
      "        [83.]])\n"
     ]
    }
   ],
   "source": [
    "new_left_tensor = torch.Tensor([[2, 5], [7, 3]]) # 2x2 matrix tensor\n",
    "new_right_tensor = torch.Tensor([[8], [9]]) # 2x1 matrix tensor\n",
    "\n",
    "mm_tensor_operator = new_left_tensor @ new_right_tensor\n",
    "mm_tensor_method = new_left_tensor.matmul(new_right_tensor)\n",
    "\n",
    "print(mm_tensor_operator)\n",
    "print(mm_tensor_method)"
   ]
  },
  {
   "cell_type": "markdown",
   "id": "4dec3d2d-a902-4b47-8843-71a24619d93c",
   "metadata": {},
   "source": [
    "` Note: matrix multiplication is not commutative i.e. left_tensor @ right_tensor != right_tensor @ left_tensor unlike element-wise multiplication `"
   ]
  },
  {
   "cell_type": "code",
   "execution_count": 14,
   "id": "ac7ec501-8654-4108-a31b-c37a22d51b6b",
   "metadata": {},
   "outputs": [
    {
     "ename": "RuntimeError",
     "evalue": "mat1 and mat2 shapes cannot be multiplied (2x1 and 2x2)",
     "output_type": "error",
     "traceback": [
      "\u001b[0;31m---------------------------------------------------------------------------\u001b[0m",
      "\u001b[0;31mRuntimeError\u001b[0m                              Traceback (most recent call last)",
      "Cell \u001b[0;32mIn[14], line 1\u001b[0m\n\u001b[0;32m----> 1\u001b[0m mm_tensor_operator \u001b[38;5;241m=\u001b[39m new_right_tensor \u001b[38;5;241m@\u001b[39m new_left_tensor\n",
      "\u001b[0;31mRuntimeError\u001b[0m: mat1 and mat2 shapes cannot be multiplied (2x1 and 2x2)"
     ]
    }
   ],
   "source": [
    "mm_tensor_operator = new_right_tensor @ new_left_tensor # will give errors due to dimension mismatches"
   ]
  },
  {
   "cell_type": "markdown",
   "id": "508dbd4a-f036-4337-b333-3025e3135ced",
   "metadata": {},
   "source": [
    "Note: Matrix multiplication is the way our model will train & make prediction, & **dimension mismatches** will be a common source of bugs when we start building models. For that reason, it's always important to check the shape of our tensors."
   ]
  },
  {
   "cell_type": "markdown",
   "id": "4a6feba7-25aa-4545-bcea-a6415027c82e",
   "metadata": {},
   "source": [
    "### Mean\n",
    "#### **.mean()** computes a mean for all values in tensor\n",
    "-  `dim=[0]` gives mean for each columns\n",
    "-  `dim=[1]` gives mean for each rows\n",
    "-  `dim=None` calculates mean for all values"
   ]
  },
  {
   "cell_type": "code",
   "execution_count": 15,
   "id": "594df8d7-a30b-4594-9dc5-bc9d53a08f9d",
   "metadata": {},
   "outputs": [
    {
     "name": "stdout",
     "output_type": "stream",
     "text": [
      "Column Mean:  tensor([5.5000, 6.5000, 7.5000], device='mps:0')\n",
      "Row Mean:  tensor([ 2.,  5.,  8., 11.], device='mps:0')\n",
      "Mean:  tensor(6.5000, device='mps:0')\n"
     ]
    }
   ],
   "source": [
    "my_tensor_column_mean = my_tensor.mean(dim=[0]) \n",
    "my_tensor_row_mean = my_tensor.mean(dim=[1]) \n",
    "my_tensor_mean = my_tensor.mean() \n",
    "print(\"Column Mean: \", my_tensor_column_mean)\n",
    "print(\"Row Mean: \",my_tensor_row_mean)\n",
    "print(\"Mean: \",my_tensor_mean)"
   ]
  },
  {
   "cell_type": "markdown",
   "id": "90d266cc-1ef5-48f9-9ecb-454fd669e57e",
   "metadata": {},
   "source": [
    "### Explore Files\n",
    "#### Assign Trainning Path"
   ]
  },
  {
   "cell_type": "markdown",
   "id": "556bfa25-cb6e-4d21-86af-f121cdf192c8",
   "metadata": {},
   "source": [
    "import os"
   ]
  },
  {
   "cell_type": "code",
   "execution_count": null,
   "id": "5fe69f59-6d2e-4045-bcb0-2a3e2cf74889",
   "metadata": {},
   "outputs": [],
   "source": [
    "# !gcloud storage ls gs://wqu-cv-course-datasets\n",
    "# gcloud storage cp gs://wqu-cv-course-datasets/project1assignment.tgz . --no-clobber"
   ]
  },
  {
   "cell_type": "code",
   "execution_count": 21,
   "id": "6ecef846-c203-4118-8514-04b923d4061c",
   "metadata": {},
   "outputs": [],
   "source": [
    "import os\n",
    "import numpy as np\n",
    "import pandas as pd\n",
    "import matplotlib.pyplot as plt"
   ]
  },
  {
   "cell_type": "code",
   "execution_count": 17,
   "id": "a5ef1fa2-ad6f-4e93-ae64-c7b9ab9a1a4d",
   "metadata": {},
   "outputs": [
    {
     "name": "stdout",
     "output_type": "stream",
     "text": [
      "Data directory: data_p1/data_multiclass\n",
      "Training data directory data_p1/data_multiclass/train\n"
     ]
    }
   ],
   "source": [
    "data_dir = os.path.join('data_p1','data_multiclass')\n",
    "train_dir = os.path.join(data_dir, 'train')\n",
    "\n",
    "print(\"Data directory:\", data_dir)\n",
    "print(\"Training data directory\", train_dir)"
   ]
  },
  {
   "cell_type": "markdown",
   "id": "4c4ebb31-941b-4b29-9c12-06ed9a5e3716",
   "metadata": {},
   "source": [
    "#### List Directory Content"
   ]
  },
  {
   "cell_type": "code",
   "execution_count": 18,
   "id": "149d3e26-e9ce-4ba3-beea-c6a11bd77844",
   "metadata": {},
   "outputs": [
    {
     "name": "stdout",
     "output_type": "stream",
     "text": [
      "class_directories length: 9\n",
      "['.DS_Store', 'leopard', 'blank', 'monkey_prosimian', 'bird', 'hog', 'antelope_duiker', 'rodent', 'civet_genet']\n"
     ]
    }
   ],
   "source": [
    "class_directories = os.listdir(train_dir)\n",
    "print(\"class_directories length:\", len(class_directories)) # Print no. of files \n",
    "print(class_directories)"
   ]
  },
  {
   "cell_type": "code",
   "execution_count": 19,
   "id": "c9caceb4-4f8d-4a58-9110-62c02c7cd326",
   "metadata": {},
   "outputs": [],
   "source": [
    "# couldn't remove due to idk problem\n",
    "# os.remove('.DS_Store')"
   ]
  },
  {
   "cell_type": "markdown",
   "id": "3eafcd5b-715c-4579-81b1-962a24bc561c",
   "metadata": {},
   "source": [
    "#### Class Distribution Mapping"
   ]
  },
  {
   "cell_type": "code",
   "execution_count": 20,
   "id": "61941b47-0e13-427e-848f-7ff3d6646eb7",
   "metadata": {},
   "outputs": [
    {
     "name": "stdout",
     "output_type": "stream",
     "text": [
      "leopard             2254\n",
      "blank               2213\n",
      "monkey_prosimian    2492\n",
      "bird                1641\n",
      "hog                  978\n",
      "antelope_duiker     2474\n",
      "rodent              2013\n",
      "civet_genet         2423\n",
      "dtype: int64\n"
     ]
    }
   ],
   "source": [
    "class_distributions_dict = {}\n",
    "for subdirectory in class_directories:\n",
    "    if(subdirectory != '.DS_Store'): # causing problems in mac\n",
    "        dir = os.path.join(train_dir, subdirectory)\n",
    "        files = os.listdir(dir)\n",
    "        num_files = len(files)\n",
    "        class_distributions_dict[subdirectory] = num_files\n",
    "\n",
    "class_distributions = pd.Series(class_distributions_dict)\n",
    "print(class_distributions)"
   ]
  },
  {
   "cell_type": "markdown",
   "id": "b5663d3f-121b-4ed8-9cbe-0325cfd63710",
   "metadata": {},
   "source": [
    "### Bar chart from `class_distribution`"
   ]
  },
  {
   "cell_type": "code",
   "execution_count": 26,
   "id": "0b23d46e-d950-4bb3-b483-4b8b38210abb",
   "metadata": {},
   "outputs": [
    {
     "ename": "NameError",
     "evalue": "name 'class_distribution' is not defined",
     "output_type": "error",
     "traceback": [
      "\u001b[0;31m---------------------------------------------------------------------------\u001b[0m",
      "\u001b[0;31mNameError\u001b[0m                                 Traceback (most recent call last)",
      "Cell \u001b[0;32mIn[26], line 3\u001b[0m\n\u001b[1;32m      1\u001b[0m fig, ax \u001b[38;5;241m=\u001b[39m plt\u001b[38;5;241m.\u001b[39msubplots(figsize\u001b[38;5;241m=\u001b[39m(\u001b[38;5;241m10\u001b[39m, \u001b[38;5;241m5\u001b[39m))\n\u001b[0;32m----> 3\u001b[0m ax\u001b[38;5;241m.\u001b[39mbar(class_distributions\u001b[38;5;241m.\u001b[39mindex, class_distribution\u001b[38;5;241m.\u001b[39mvalue)\n\u001b[1;32m      4\u001b[0m ax\u001b[38;5;241m.\u001b[39mset_xlabel(\u001b[38;5;124m\"\u001b[39m\u001b[38;5;124mClass Label\u001b[39m\u001b[38;5;124m\"\u001b[39m)\n\u001b[1;32m      5\u001b[0m ax\u001b[38;5;241m.\u001b[39mset_ylabel(\u001b[38;5;124m\"\u001b[39m\u001b[38;5;124mFrequency [count]\u001b[39m\u001b[38;5;124m\"\u001b[39m)\n",
      "\u001b[0;31mNameError\u001b[0m: name 'class_distribution' is not defined"
     ]
    },
    {
     "data": {
      "image/png": "[encoded data removed]",
      "text/plain": [
       "<Figure size 1000x500 with 1 Axes>"
      ]
     },
     "metadata": {},
     "output_type": "display_data"
    }
   ],
   "source": [
    "fig, ax = plt.subplots(figsize=(10, 5))\n",
    "\n",
    "ax.bar(class_distributions.index, class_distribution.value)\n",
    "ax.set_xlabel(\"Class Label\")\n",
    "ax.set_ylabel(\"Frequency [count]\")\n",
    "ax.set_title(\"Class Distribution, Multiclass Training Set\")\n",
    "plt.xticks(rotation=45)\n",
    "plt.tight_layout()\n",
    "plt.show()"
   ]
  },
  {
   "cell_type": "code",
   "execution_count": null,
   "id": "c73de75e-92ed-42c0-b5fd-6913ddaf443b",
   "metadata": {},
   "outputs": [],
   "source": []
  }
 ],
 "metadata": {
  "kernelspec": {
   "display_name": "Python 3 (ipykernel)",
   "language": "python",
   "name": "python3"
  },
  "language_info": {
   "codemirror_mode": {
    "name": "ipython",
    "version": 3
   },
   "file_extension": ".py",
   "mimetype": "text/x-python",
   "name": "python",
   "nbconvert_exporter": "python",
   "pygments_lexer": "ipython3",
   "version": "3.12.7"
  }
 },
 "nbformat": 4,
 "nbformat_minor": 5
}
